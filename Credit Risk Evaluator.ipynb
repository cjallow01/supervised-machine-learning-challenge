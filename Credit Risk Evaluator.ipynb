{
 "cells": [
  {
   "cell_type": "markdown",
   "metadata": {},
   "source": [
    "# Credit Risk Evaluator"
   ]
  },
  {
   "cell_type": "code",
   "execution_count": 53,
   "metadata": {},
   "outputs": [],
   "source": [
    "%matplotlib inline\n",
    "from matplotlib import pyplot as plt\n",
    "from sklearn.datasets import make_classification\n",
    "import numpy as np\n",
    "import pandas as pd\n",
    "from pathlib import Path\n",
    "from sklearn.ensemble import RandomForestClassifier\n",
    "from sklearn.linear_model import LogisticRegression\n",
    "from sklearn.model_selection import train_test_split\n",
    "from sklearn.preprocessing import StandardScaler"
   ]
  },
  {
   "cell_type": "markdown",
   "metadata": {},
   "source": [
    "## Retrieve the Data\n",
    "\n",
    "The data is located in the Challenge Files Folder:\n",
    "\n",
    "* `lending_data.csv`\n",
    "\n",
    "Import the data using Pandas. Display the resulting dataframe to confirm the import was successful."
   ]
  },
  {
   "cell_type": "code",
   "execution_count": 54,
   "metadata": {},
   "outputs": [],
   "source": [
    "# Import the data\n",
    "import pandas as pd\n",
    "file = Path('Resources/lending_data.csv')\n"
   ]
  },
  {
   "cell_type": "code",
   "execution_count": 55,
   "metadata": {},
   "outputs": [
    {
     "data": {
      "text/html": [
       "<div>\n",
       "<style scoped>\n",
       "    .dataframe tbody tr th:only-of-type {\n",
       "        vertical-align: middle;\n",
       "    }\n",
       "\n",
       "    .dataframe tbody tr th {\n",
       "        vertical-align: top;\n",
       "    }\n",
       "\n",
       "    .dataframe thead th {\n",
       "        text-align: right;\n",
       "    }\n",
       "</style>\n",
       "<table border=\"1\" class=\"dataframe\">\n",
       "  <thead>\n",
       "    <tr style=\"text-align: right;\">\n",
       "      <th></th>\n",
       "      <th>loan_size</th>\n",
       "      <th>interest_rate</th>\n",
       "      <th>borrower_income</th>\n",
       "      <th>debt_to_income</th>\n",
       "      <th>num_of_accounts</th>\n",
       "      <th>derogatory_marks</th>\n",
       "      <th>total_debt</th>\n",
       "      <th>loan_status</th>\n",
       "    </tr>\n",
       "  </thead>\n",
       "  <tbody>\n",
       "    <tr>\n",
       "      <th>37533</th>\n",
       "      <td>9200.0</td>\n",
       "      <td>7.030</td>\n",
       "      <td>46800</td>\n",
       "      <td>0.358974</td>\n",
       "      <td>3</td>\n",
       "      <td>0</td>\n",
       "      <td>16800</td>\n",
       "      <td>0</td>\n",
       "    </tr>\n",
       "    <tr>\n",
       "      <th>70950</th>\n",
       "      <td>10200.0</td>\n",
       "      <td>7.468</td>\n",
       "      <td>50900</td>\n",
       "      <td>0.410609</td>\n",
       "      <td>4</td>\n",
       "      <td>1</td>\n",
       "      <td>20900</td>\n",
       "      <td>0</td>\n",
       "    </tr>\n",
       "    <tr>\n",
       "      <th>51693</th>\n",
       "      <td>8200.0</td>\n",
       "      <td>6.590</td>\n",
       "      <td>42600</td>\n",
       "      <td>0.295775</td>\n",
       "      <td>2</td>\n",
       "      <td>0</td>\n",
       "      <td>12600</td>\n",
       "      <td>0</td>\n",
       "    </tr>\n",
       "    <tr>\n",
       "      <th>54950</th>\n",
       "      <td>10600.0</td>\n",
       "      <td>7.615</td>\n",
       "      <td>52300</td>\n",
       "      <td>0.426386</td>\n",
       "      <td>5</td>\n",
       "      <td>1</td>\n",
       "      <td>22300</td>\n",
       "      <td>0</td>\n",
       "    </tr>\n",
       "    <tr>\n",
       "      <th>11091</th>\n",
       "      <td>9300.0</td>\n",
       "      <td>7.090</td>\n",
       "      <td>47300</td>\n",
       "      <td>0.365751</td>\n",
       "      <td>3</td>\n",
       "      <td>0</td>\n",
       "      <td>17300</td>\n",
       "      <td>0</td>\n",
       "    </tr>\n",
       "    <tr>\n",
       "      <th>62910</th>\n",
       "      <td>11000.0</td>\n",
       "      <td>7.787</td>\n",
       "      <td>53900</td>\n",
       "      <td>0.443414</td>\n",
       "      <td>5</td>\n",
       "      <td>1</td>\n",
       "      <td>23900</td>\n",
       "      <td>0</td>\n",
       "    </tr>\n",
       "    <tr>\n",
       "      <th>75270</th>\n",
       "      <td>19000.0</td>\n",
       "      <td>11.207</td>\n",
       "      <td>86100</td>\n",
       "      <td>0.651568</td>\n",
       "      <td>12</td>\n",
       "      <td>2</td>\n",
       "      <td>56100</td>\n",
       "      <td>1</td>\n",
       "    </tr>\n",
       "    <tr>\n",
       "      <th>65768</th>\n",
       "      <td>8800.0</td>\n",
       "      <td>6.851</td>\n",
       "      <td>45100</td>\n",
       "      <td>0.334812</td>\n",
       "      <td>3</td>\n",
       "      <td>0</td>\n",
       "      <td>15100</td>\n",
       "      <td>0</td>\n",
       "    </tr>\n",
       "    <tr>\n",
       "      <th>7062</th>\n",
       "      <td>9900.0</td>\n",
       "      <td>7.315</td>\n",
       "      <td>49400</td>\n",
       "      <td>0.392713</td>\n",
       "      <td>4</td>\n",
       "      <td>0</td>\n",
       "      <td>19400</td>\n",
       "      <td>0</td>\n",
       "    </tr>\n",
       "    <tr>\n",
       "      <th>28564</th>\n",
       "      <td>9800.0</td>\n",
       "      <td>7.276</td>\n",
       "      <td>49100</td>\n",
       "      <td>0.389002</td>\n",
       "      <td>4</td>\n",
       "      <td>0</td>\n",
       "      <td>19100</td>\n",
       "      <td>0</td>\n",
       "    </tr>\n",
       "  </tbody>\n",
       "</table>\n",
       "</div>"
      ],
      "text/plain": [
       "       loan_size  interest_rate  borrower_income  debt_to_income  \\\n",
       "37533     9200.0          7.030            46800        0.358974   \n",
       "70950    10200.0          7.468            50900        0.410609   \n",
       "51693     8200.0          6.590            42600        0.295775   \n",
       "54950    10600.0          7.615            52300        0.426386   \n",
       "11091     9300.0          7.090            47300        0.365751   \n",
       "62910    11000.0          7.787            53900        0.443414   \n",
       "75270    19000.0         11.207            86100        0.651568   \n",
       "65768     8800.0          6.851            45100        0.334812   \n",
       "7062      9900.0          7.315            49400        0.392713   \n",
       "28564     9800.0          7.276            49100        0.389002   \n",
       "\n",
       "       num_of_accounts  derogatory_marks  total_debt  loan_status  \n",
       "37533                3                 0       16800            0  \n",
       "70950                4                 1       20900            0  \n",
       "51693                2                 0       12600            0  \n",
       "54950                5                 1       22300            0  \n",
       "11091                3                 0       17300            0  \n",
       "62910                5                 1       23900            0  \n",
       "75270               12                 2       56100            1  \n",
       "65768                3                 0       15100            0  \n",
       "7062                 4                 0       19400            0  \n",
       "28564                4                 0       19100            0  "
      ]
     },
     "execution_count": 55,
     "metadata": {},
     "output_type": "execute_result"
    }
   ],
   "source": [
    "df = pd.read_csv(file)\n",
    "df.sample(10)"
   ]
  },
  {
   "cell_type": "markdown",
   "metadata": {},
   "source": [
    "## Predict Model Performance\n",
    "\n",
    "You will be creating and comparing two models on this data: a Logistic Regression, and a Random Forests Classifier. Before you create, fit, and score the models, make a prediction as to which model you think will perform better. You do not need to be correct! \n",
    "\n",
    "Write down your prediction in the designated cells in your Jupyter Notebook, and provide justification for your educated guess."
   ]
  },
  {
   "cell_type": "markdown",
   "metadata": {},
   "source": [
    "*Replace the text in this markdown cell with your predictions, and be sure to provide justification for your guess.*"
   ]
  },
  {
   "cell_type": "markdown",
   "metadata": {},
   "source": [
    "## Split the Data into Training and Testing Sets"
   ]
  },
  {
   "cell_type": "code",
   "execution_count": 56,
   "metadata": {},
   "outputs": [],
   "source": [
    "X = df.drop(columns=[\"loan_status\"])\n",
    "y = df[\"loan_status\"]"
   ]
  },
  {
   "cell_type": "code",
   "execution_count": 57,
   "metadata": {},
   "outputs": [
    {
     "data": {
      "text/html": [
       "<div>\n",
       "<style scoped>\n",
       "    .dataframe tbody tr th:only-of-type {\n",
       "        vertical-align: middle;\n",
       "    }\n",
       "\n",
       "    .dataframe tbody tr th {\n",
       "        vertical-align: top;\n",
       "    }\n",
       "\n",
       "    .dataframe thead th {\n",
       "        text-align: right;\n",
       "    }\n",
       "</style>\n",
       "<table border=\"1\" class=\"dataframe\">\n",
       "  <thead>\n",
       "    <tr style=\"text-align: right;\">\n",
       "      <th></th>\n",
       "      <th>loan_size</th>\n",
       "      <th>interest_rate</th>\n",
       "      <th>borrower_income</th>\n",
       "      <th>debt_to_income</th>\n",
       "      <th>num_of_accounts</th>\n",
       "      <th>derogatory_marks</th>\n",
       "      <th>total_debt</th>\n",
       "    </tr>\n",
       "  </thead>\n",
       "  <tbody>\n",
       "    <tr>\n",
       "      <th>71605</th>\n",
       "      <td>7700.0</td>\n",
       "      <td>6.409</td>\n",
       "      <td>40900</td>\n",
       "      <td>0.266504</td>\n",
       "      <td>2</td>\n",
       "      <td>0</td>\n",
       "      <td>10900</td>\n",
       "    </tr>\n",
       "    <tr>\n",
       "      <th>19074</th>\n",
       "      <td>9000.0</td>\n",
       "      <td>6.951</td>\n",
       "      <td>46000</td>\n",
       "      <td>0.347826</td>\n",
       "      <td>3</td>\n",
       "      <td>0</td>\n",
       "      <td>16000</td>\n",
       "    </tr>\n",
       "    <tr>\n",
       "      <th>29266</th>\n",
       "      <td>10900.0</td>\n",
       "      <td>7.758</td>\n",
       "      <td>53600</td>\n",
       "      <td>0.440299</td>\n",
       "      <td>5</td>\n",
       "      <td>1</td>\n",
       "      <td>23600</td>\n",
       "    </tr>\n",
       "    <tr>\n",
       "      <th>46568</th>\n",
       "      <td>11000.0</td>\n",
       "      <td>7.811</td>\n",
       "      <td>54100</td>\n",
       "      <td>0.445471</td>\n",
       "      <td>5</td>\n",
       "      <td>1</td>\n",
       "      <td>24100</td>\n",
       "    </tr>\n",
       "    <tr>\n",
       "      <th>64729</th>\n",
       "      <td>10600.0</td>\n",
       "      <td>7.634</td>\n",
       "      <td>52400</td>\n",
       "      <td>0.427481</td>\n",
       "      <td>5</td>\n",
       "      <td>1</td>\n",
       "      <td>22400</td>\n",
       "    </tr>\n",
       "  </tbody>\n",
       "</table>\n",
       "</div>"
      ],
      "text/plain": [
       "       loan_size  interest_rate  borrower_income  debt_to_income  \\\n",
       "71605     7700.0          6.409            40900        0.266504   \n",
       "19074     9000.0          6.951            46000        0.347826   \n",
       "29266    10900.0          7.758            53600        0.440299   \n",
       "46568    11000.0          7.811            54100        0.445471   \n",
       "64729    10600.0          7.634            52400        0.427481   \n",
       "\n",
       "       num_of_accounts  derogatory_marks  total_debt  \n",
       "71605                2                 0       10900  \n",
       "19074                3                 0       16000  \n",
       "29266                5                 1       23600  \n",
       "46568                5                 1       24100  \n",
       "64729                5                 1       22400  "
      ]
     },
     "execution_count": 57,
     "metadata": {},
     "output_type": "execute_result"
    }
   ],
   "source": [
    "# Split the data into X_train, X_test, y_train, y_test\n",
    "X_train, X_test, y_train, y_test = train_test_split(X, y)\n",
    "X_train.head()"
   ]
  },
  {
   "cell_type": "code",
   "execution_count": 58,
   "metadata": {},
   "outputs": [],
   "source": [
    "# print(f\"Labels: {y[:10]}\")\n",
    "# print(f\"Data: {X[:10]}\")"
   ]
  },
  {
   "cell_type": "markdown",
   "metadata": {},
   "source": [
    "## Create, Fit and Compare Models\n",
    "\n",
    "Create a Logistic Regression model, fit it to the data, and print the model's score. Do the same for a Random Forest Classifier. You may choose any starting hyperparameters you like. \n",
    "\n",
    "Which model performed better? How does that compare to your prediction? Write down your results and thoughts in the designated markdown cell."
   ]
  },
  {
   "cell_type": "code",
   "execution_count": 59,
   "metadata": {},
   "outputs": [
    {
     "data": {
      "text/plain": [
       "0.9918489475856377"
      ]
     },
     "execution_count": 59,
     "metadata": {},
     "output_type": "execute_result"
    }
   ],
   "source": [
    "# Train a Logistic Regression model and print the model score\n",
    "from sklearn.linear_model import LogisticRegression\n",
    "clf = LogisticRegression(solver='lbfgs', random_state=1)\n",
    "clf.fit(X_train, y_train)\n",
    "clf.score(X_test, y_test)"
   ]
  },
  {
   "cell_type": "code",
   "execution_count": 60,
   "metadata": {},
   "outputs": [
    {
     "data": {
      "text/plain": [
       "0.9548310683587886"
      ]
     },
     "execution_count": 60,
     "metadata": {},
     "output_type": "execute_result"
    }
   ],
   "source": [
    "from sklearn.metrics import balanced_accuracy_score\n",
    "\n",
    "y_pred = clf.predict(X_test)\n",
    "balanced_accuracy_score(y_test, y_pred)"
   ]
  },
  {
   "cell_type": "code",
   "execution_count": 61,
   "metadata": {},
   "outputs": [
    {
     "data": {
      "text/plain": [
       "array([[18664,   106],\n",
       "       [   52,   562]])"
      ]
     },
     "execution_count": 61,
     "metadata": {},
     "output_type": "execute_result"
    }
   ],
   "source": [
    "from sklearn.metrics import confusion_matrix\n",
    "\n",
    "confusion_matrix(y_test, y_pred)"
   ]
  },
  {
   "cell_type": "code",
   "execution_count": 66,
   "metadata": {},
   "outputs": [
    {
     "data": {
      "image/png": "[encoded data removed]",
      "text/plain": [
       "<Figure size 432x288 with 2 Axes>"
      ]
     },
     "metadata": {
      "needs_background": "light"
     },
     "output_type": "display_data"
    }
   ],
   "source": [
    "import matplotlib.pyplot as plt\n",
    "from sklearn.metrics import confusion_matrix, ConfusionMatrixDisplay\n",
    "\n",
    "cm = confusion_matrix(y_test, y_pred)\n",
    "cmd_obj = ConfusionMatrixDisplay(cm, display_labels=['low_risk', 'high_risk'])\n",
    "cmd_obj.plot()\n",
    "cmd_obj.ax_.set(\n",
    "                title='Sklearn Confusion Matrix with labels!!', \n",
    "                xlabel='Predicted Results', \n",
    "                ylabel='Actual Results')\n",
    "plt.show()"
   ]
  },
  {
   "cell_type": "code",
   "execution_count": 62,
   "metadata": {},
   "outputs": [
    {
     "data": {
      "text/plain": [
       "0.9914362360709864"
      ]
     },
     "execution_count": 62,
     "metadata": {},
     "output_type": "execute_result"
    }
   ],
   "source": [
    "# Train a Random Forest Classifier model and print the model score\n",
    "from sklearn.ensemble import RandomForestClassifier\n",
    "clf = RandomForestClassifier(random_state=1)\n",
    "clf.fit(X_train, y_train)\n",
    "clf.score(X_test, y_test)\n"
   ]
  },
  {
   "cell_type": "code",
   "execution_count": 63,
   "metadata": {},
   "outputs": [
    {
     "data": {
      "text/plain": [
       "0.9548310683587886"
      ]
     },
     "execution_count": 63,
     "metadata": {},
     "output_type": "execute_result"
    }
   ],
   "source": [
    "from sklearn.metrics import balanced_accuracy_score\n",
    "\n",
    "y_pred1 = clf.predict(X_test)\n",
    "balanced_accuracy_score(y_test, y_pred)"
   ]
  },
  {
   "cell_type": "code",
   "execution_count": 64,
   "metadata": {},
   "outputs": [
    {
     "data": {
      "text/plain": [
       "array([[18669,   101],\n",
       "       [   65,   549]])"
      ]
     },
     "execution_count": 64,
     "metadata": {},
     "output_type": "execute_result"
    }
   ],
   "source": [
    "from sklearn.metrics import confusion_matrix\n",
    "\n",
    "confusion_matrix(y_test, y_pred1)"
   ]
  },
  {
   "cell_type": "code",
   "execution_count": 65,
   "metadata": {},
   "outputs": [
    {
     "data": {
      "image/png": "[encoded data removed]",
      "text/plain": [
       "<Figure size 432x288 with 2 Axes>"
      ]
     },
     "metadata": {
      "needs_background": "light"
     },
     "output_type": "display_data"
    }
   ],
   "source": [
    "import matplotlib.pyplot as plt\n",
    "from sklearn.metrics import confusion_matrix, ConfusionMatrixDisplay\n",
    "\n",
    "cm1 = confusion_matrix(y_test, y_pred1)\n",
    "cmd_obj = ConfusionMatrixDisplay(cm1, display_labels=['low_risk', 'high_risk'])\n",
    "cmd_obj.plot()\n",
    "cmd_obj.ax_.set(\n",
    "                title='Sklearn Confusion Matrix with labels!!', \n",
    "                xlabel='Predicted Results', \n",
    "                ylabel='Actual Results')\n",
    "plt.show()"
   ]
  },
  {
   "cell_type": "markdown",
   "metadata": {},
   "source": [
    "*Which model performed better? How does that compare to your prediction? Replace the text in this markdown cell with your answers to these questions.*"
   ]
  },
  {
   "cell_type": "markdown",
   "metadata": {},
   "source": [
    "### My prediction as to Which model i think performed better \n",
    "#  Looking at the dataset, I believe that the logistic regression model will perform better for this dataset. With a lot of variables to consider, the Logistic model will win out over the Random Forest model.\n",
    "\n",
    "\n",
    "### How does that compare to my prediction? \n",
    "#   Based on my research, Random Forest is recommended for simple classification problems.\n",
    "\n",
    "\n",
    "### Results and thoughts in the designated markdown cell.\n",
    "#   Logistic Regression model score = 0.9914878250103177\n",
    "#   balanced_accuracy_score = 0.9823995861872097\n",
    "\n",
    "### Random Forest Classifier model score\n",
    "#   RandomForestClassifier = 0.991642591828312\n",
    "#   balanced_accuracy_score = 0.9515284156142365\n",
    "\n",
    "### Conclusion\n",
    "#  I was suprised that Random Forest stayed more consistant and appears by my understand to be the better choice for this dataset in this supervised learning challenge"
   ]
  }
 ],
 "metadata": {
  "kernelspec": {
   "display_name": "Python 3.7.7 ('PythonDataOne')",
   "language": "python",
   "name": "python3"
  },
  "language_info": {
   "codemirror_mode": {
    "name": "ipython",
    "version": 3
   },
   "file_extension": ".py",
   "mimetype": "text/x-python",
   "name": "python",
   "nbconvert_exporter": "python",
   "pygments_lexer": "ipython3",
   "version": "3.7.7"
  },
  "vscode": {
   "interpreter": {
    "hash": "a6897b9bc8f2b8346b5014e6a604b0c2817e17d20fd38d47a3193bb4a35a028d"
   }
  }
 },
 "nbformat": 4,
 "nbformat_minor": 4
}
